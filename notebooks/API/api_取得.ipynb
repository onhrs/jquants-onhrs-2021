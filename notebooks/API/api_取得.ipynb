{
 "cells": [
  {
   "cell_type": "code",
   "execution_count": null,
   "metadata": {},
   "outputs": [],
   "source": []
  },
  {
   "cell_type": "code",
   "execution_count": 1,
   "metadata": {},
   "outputs": [],
   "source": [
    "import os\n",
    "import json\n",
    "import requests\n",
    "import base64\n",
    "\n",
    "import numpy as np\n",
    "import pandas as pd\n"
   ]
  },
  {
   "cell_type": "code",
   "execution_count": 2,
   "metadata": {},
   "outputs": [
    {
     "data": {
      "text/plain": [
       "'/home/jupyter/jpx'"
      ]
     },
     "execution_count": 2,
     "metadata": {},
     "output_type": "execute_result"
    }
   ],
   "source": [
    "base_dir =os.path.expanduser('~')\n",
    "home_dir =f'{base_dir}/jpx'\n",
    "\n",
    "\n",
    "home_dir"
   ]
  },
  {
   "cell_type": "code",
   "execution_count": 3,
   "metadata": {},
   "outputs": [],
   "source": [
    "import sys\n",
    "import datetime\n",
    "\n",
    "sys.path.append(home_dir)\n",
    "sys.path.append(home_dir + '/predict/src')\n",
    "from predictor import ScoringService\n",
    "#from fundamental.predictor import ScoringServiceFundamental\n",
    "\n",
    "\n",
    "\n",
    "import importlib\n",
    "#import api\n",
    "#importlib.reload(api.fetch_api)\n",
    "from api.fetch_api import (\n",
    "    fetch_jquant_data,\n",
    "    call_refresh_api,\n",
    "    call_jquants_api,\n",
    "    match_type_df\n",
    ")\n",
    "from api import token\n",
    "\n",
    "refreshtoken = token.refreshtoken\n",
    "idtk = call_refresh_api(refreshtoken)['idToken']\n",
    "\n",
    "paramdict = {}\n",
    "paramdict[\"datefrom\"] = \"2020-03-27\"\n",
    "paramdict[\"dateto\"] = \"2021-05-07\"\n",
    "paramdict[\"includedetails\"] = \"True\"\n"
   ]
  },
  {
   "cell_type": "code",
   "execution_count": null,
   "metadata": {},
   "outputs": [],
   "source": []
  },
  {
   "cell_type": "code",
   "execution_count": 4,
   "metadata": {},
   "outputs": [
    {
     "name": "stderr",
     "output_type": "stream",
     "text": [
      "INFO : 2021-05-08 07:53:53,775 : read stock_list\n",
      "INFO : 2021-05-08 07:53:53,797 : read stock_price\n",
      "INFO : 2021-05-08 07:54:04,081 : read stock_fin\n",
      "/opt/conda/lib/python3.7/site-packages/IPython/core/interactiveshell.py:3357: DtypeWarning: Columns (8) have mixed types.Specify dtype option on import or set low_memory=False.\n",
      "  if (await self.run_code(code, result,  async_=asy)):\n",
      "INFO : 2021-05-08 07:54:04,664 : read tdnet\n",
      "INFO : 2021-05-08 07:54:06,968 : read nikkei_article\n",
      "INFO : 2021-05-08 07:54:09,113 : read stock_labels\n"
     ]
    }
   ],
   "source": [
    "DATASET_DIR=f'{home_dir}/data'\n",
    "MODEL_PATH=f'{home_dir}/predict/model'\n",
    "\n",
    "\n",
    "inputs = ScoringService.get_inputs(DATASET_DIR)\n",
    "\n",
    "\n",
    "load_data = ['stock_list', 'stock_price', 'stock_fin', 'stock_labels', 'nikkei_article','tdnet' ]\n",
    "\n",
    "dfs = ScoringService.get_dataset(inputs, load_data)\n",
    "codes = dfs['stock_list']['Local Code'].unique() #全銘柄"
   ]
  },
  {
   "cell_type": "code",
   "execution_count": null,
   "metadata": {},
   "outputs": [],
   "source": []
  },
  {
   "cell_type": "code",
   "execution_count": 10,
   "metadata": {},
   "outputs": [],
   "source": [
    "# df_news = pd.read_csv(f\"{DATASET_DIR}/nikkei_article.csv.gz\")\n",
    "# df_news"
   ]
  },
  {
   "cell_type": "code",
   "execution_count": null,
   "metadata": {},
   "outputs": [],
   "source": []
  },
  {
   "cell_type": "code",
   "execution_count": 11,
   "metadata": {},
   "outputs": [
    {
     "data": {
      "text/plain": [
       "dict_keys(['stock_list', 'stock_price', 'stock_fin', 'tdnet', 'nikkei_article', 'stock_labels'])"
      ]
     },
     "execution_count": 11,
     "metadata": {},
     "output_type": "execute_result"
    }
   ],
   "source": [
    "dfs.keys()"
   ]
  },
  {
   "cell_type": "code",
   "execution_count": 13,
   "metadata": {},
   "outputs": [
    {
     "name": "stderr",
     "output_type": "stream",
     "text": [
      "100%|██████████| 3711/3711 [06:28<00:00,  9.54it/s]\n"
     ]
    }
   ],
   "source": [
    "from tqdm import tqdm\n",
    "df_stock_lists_list = []\n",
    "for code in tqdm(codes):\n",
    "    lists = pd.DataFrame(call_jquants_api(paramdict, idtk, \"lists\", f\"{code}\")['list'])\n",
    "    df_stock_lists_list.append(lists)"
   ]
  },
  {
   "cell_type": "code",
   "execution_count": null,
   "metadata": {},
   "outputs": [],
   "source": [
    "\n",
    "\n",
    "\n"
   ]
  },
  {
   "cell_type": "code",
   "execution_count": 14,
   "metadata": {},
   "outputs": [],
   "source": [
    "stock_list = pd.concat(df_stock_lists_list)#.drop_duplicates()\n",
    "#stock_list = stock_list[dfs['stock_list'].columns].reset_index(drop=True)\n",
    "\n",
    "stock_list = match_type_df(stock_list, dfs['stock_list'])\n"
   ]
  },
  {
   "cell_type": "code",
   "execution_count": null,
   "metadata": {},
   "outputs": [],
   "source": []
  },
  {
   "cell_type": "code",
   "execution_count": 15,
   "metadata": {},
   "outputs": [],
   "source": [
    "stock_list_drop_col = stock_list.drop(['Effective Date', 'IssuedShareEquityQuote ModifyDate'], axis=1)\n",
    "\n",
    "\n",
    "stock_list_api_list = []\n",
    "for i in stock_list['Local Code'].unique():\n",
    "    df_local = stock_list[stock_list['Local Code']==i]\n",
    "    df_local_recent = df_local.sort_values(by='Effective Date', ascending=False).iloc[[0]]\n",
    "    stock_list_api_list.append(df_local_recent)\n",
    "    \n",
    "stock_list_api = pd.concat(stock_list_api_list).reset_index(drop=True)\n"
   ]
  },
  {
   "cell_type": "code",
   "execution_count": 18,
   "metadata": {},
   "outputs": [],
   "source": [
    "# stock_list更新分保存\n",
    "#stock_list_api.to_csv('stock_list.csv.gz', compression='gzip', index=False)"
   ]
  },
  {
   "cell_type": "code",
   "execution_count": null,
   "metadata": {},
   "outputs": [],
   "source": []
  },
  {
   "cell_type": "code",
   "execution_count": null,
   "metadata": {},
   "outputs": [],
   "source": []
  },
  {
   "cell_type": "code",
   "execution_count": null,
   "metadata": {},
   "outputs": [],
   "source": []
  },
  {
   "cell_type": "code",
   "execution_count": 5,
   "metadata": {},
   "outputs": [
    {
     "name": "stderr",
     "output_type": "stream",
     "text": [
      "100%|██████████| 3711/3711 [53:01<00:00,  1.17it/s]\n"
     ]
    }
   ],
   "source": [
    "#%%capture output\n",
    "\n",
    "df_stock_price_api = fetch_jquant_data(codes=codes, paramdict=paramdict, target=\"prices\", idtk=idtk)\n"
   ]
  },
  {
   "cell_type": "code",
   "execution_count": null,
   "metadata": {},
   "outputs": [],
   "source": []
  },
  {
   "cell_type": "code",
   "execution_count": 6,
   "metadata": {},
   "outputs": [],
   "source": [
    "\n",
    "df_stock_price_api = match_type_df(df_stock_price_api, dfs['stock_price'])"
   ]
  },
  {
   "cell_type": "code",
   "execution_count": 15,
   "metadata": {},
   "outputs": [
    {
     "data": {
      "text/html": [
       "<div>\n",
       "<style scoped>\n",
       "    .dataframe tbody tr th:only-of-type {\n",
       "        vertical-align: middle;\n",
       "    }\n",
       "\n",
       "    .dataframe tbody tr th {\n",
       "        vertical-align: top;\n",
       "    }\n",
       "\n",
       "    .dataframe thead th {\n",
       "        text-align: right;\n",
       "    }\n",
       "</style>\n",
       "<table border=\"1\" class=\"dataframe\">\n",
       "  <thead>\n",
       "    <tr style=\"text-align: right;\">\n",
       "      <th></th>\n",
       "      <th>Local Code</th>\n",
       "      <th>EndOfDayQuote Date</th>\n",
       "      <th>EndOfDayQuote Open</th>\n",
       "      <th>EndOfDayQuote High</th>\n",
       "      <th>EndOfDayQuote Low</th>\n",
       "      <th>EndOfDayQuote Close</th>\n",
       "      <th>EndOfDayQuote ExchangeOfficialClose</th>\n",
       "      <th>EndOfDayQuote Volume</th>\n",
       "      <th>EndOfDayQuote CumulativeAdjustmentFactor</th>\n",
       "      <th>EndOfDayQuote PreviousClose</th>\n",
       "      <th>EndOfDayQuote PreviousCloseDate</th>\n",
       "      <th>EndOfDayQuote PreviousExchangeOfficialClose</th>\n",
       "      <th>EndOfDayQuote PreviousExchangeOfficialCloseDate</th>\n",
       "      <th>EndOfDayQuote ChangeFromPreviousClose</th>\n",
       "      <th>EndOfDayQuote PercentChangeFromPreviousClose</th>\n",
       "      <th>EndOfDayQuote VWAP</th>\n",
       "    </tr>\n",
       "  </thead>\n",
       "  <tbody>\n",
       "    <tr>\n",
       "      <th>0</th>\n",
       "      <td>1301</td>\n",
       "      <td>2020/03/27</td>\n",
       "      <td>2718.0</td>\n",
       "      <td>2757.0</td>\n",
       "      <td>2687.0</td>\n",
       "      <td>2757.0</td>\n",
       "      <td>2757.0</td>\n",
       "      <td>139800.0</td>\n",
       "      <td>1.0</td>\n",
       "      <td>2689.0</td>\n",
       "      <td>2020/03/26</td>\n",
       "      <td>2689.0</td>\n",
       "      <td>2020/03/26</td>\n",
       "      <td>68.0</td>\n",
       "      <td>2.529</td>\n",
       "      <td>2719.655</td>\n",
       "    </tr>\n",
       "    <tr>\n",
       "      <th>1</th>\n",
       "      <td>1301</td>\n",
       "      <td>2020/03/30</td>\n",
       "      <td>2600.0</td>\n",
       "      <td>2624.0</td>\n",
       "      <td>2507.0</td>\n",
       "      <td>2619.0</td>\n",
       "      <td>2619.0</td>\n",
       "      <td>98400.0</td>\n",
       "      <td>1.0</td>\n",
       "      <td>2757.0</td>\n",
       "      <td>2020/03/27</td>\n",
       "      <td>2757.0</td>\n",
       "      <td>2020/03/27</td>\n",
       "      <td>-138.0</td>\n",
       "      <td>-5.005</td>\n",
       "      <td>2576.886</td>\n",
       "    </tr>\n",
       "    <tr>\n",
       "      <th>2</th>\n",
       "      <td>1301</td>\n",
       "      <td>2020/03/31</td>\n",
       "      <td>2600.0</td>\n",
       "      <td>2605.0</td>\n",
       "      <td>2510.0</td>\n",
       "      <td>2545.0</td>\n",
       "      <td>2545.0</td>\n",
       "      <td>46700.0</td>\n",
       "      <td>1.0</td>\n",
       "      <td>2619.0</td>\n",
       "      <td>2020/03/30</td>\n",
       "      <td>2619.0</td>\n",
       "      <td>2020/03/30</td>\n",
       "      <td>-74.0</td>\n",
       "      <td>-2.826</td>\n",
       "      <td>2550.565</td>\n",
       "    </tr>\n",
       "    <tr>\n",
       "      <th>3</th>\n",
       "      <td>1301</td>\n",
       "      <td>2020/04/01</td>\n",
       "      <td>2517.0</td>\n",
       "      <td>2557.0</td>\n",
       "      <td>2498.0</td>\n",
       "      <td>2517.0</td>\n",
       "      <td>2517.0</td>\n",
       "      <td>56000.0</td>\n",
       "      <td>1.0</td>\n",
       "      <td>2545.0</td>\n",
       "      <td>2020/03/31</td>\n",
       "      <td>2545.0</td>\n",
       "      <td>2020/03/31</td>\n",
       "      <td>-28.0</td>\n",
       "      <td>-1.100</td>\n",
       "      <td>2522.818</td>\n",
       "    </tr>\n",
       "    <tr>\n",
       "      <th>4</th>\n",
       "      <td>1301</td>\n",
       "      <td>2020/04/02</td>\n",
       "      <td>2467.0</td>\n",
       "      <td>2539.0</td>\n",
       "      <td>2446.0</td>\n",
       "      <td>2512.0</td>\n",
       "      <td>2512.0</td>\n",
       "      <td>44400.0</td>\n",
       "      <td>1.0</td>\n",
       "      <td>2517.0</td>\n",
       "      <td>2020/04/01</td>\n",
       "      <td>2517.0</td>\n",
       "      <td>2020/04/01</td>\n",
       "      <td>-5.0</td>\n",
       "      <td>-0.199</td>\n",
       "      <td>2503.723</td>\n",
       "    </tr>\n",
       "    <tr>\n",
       "      <th>...</th>\n",
       "      <td>...</td>\n",
       "      <td>...</td>\n",
       "      <td>...</td>\n",
       "      <td>...</td>\n",
       "      <td>...</td>\n",
       "      <td>...</td>\n",
       "      <td>...</td>\n",
       "      <td>...</td>\n",
       "      <td>...</td>\n",
       "      <td>...</td>\n",
       "      <td>...</td>\n",
       "      <td>...</td>\n",
       "      <td>...</td>\n",
       "      <td>...</td>\n",
       "      <td>...</td>\n",
       "      <td>...</td>\n",
       "    </tr>\n",
       "    <tr>\n",
       "      <th>266</th>\n",
       "      <td>9997</td>\n",
       "      <td>2021/04/27</td>\n",
       "      <td>1206.0</td>\n",
       "      <td>1207.0</td>\n",
       "      <td>1181.0</td>\n",
       "      <td>1186.0</td>\n",
       "      <td>1186.0</td>\n",
       "      <td>207500.0</td>\n",
       "      <td>1.0</td>\n",
       "      <td>1219.0</td>\n",
       "      <td>2021/04/26</td>\n",
       "      <td>1219.0</td>\n",
       "      <td>2021/04/26</td>\n",
       "      <td>-33.0</td>\n",
       "      <td>-2.707</td>\n",
       "      <td>1189.085</td>\n",
       "    </tr>\n",
       "    <tr>\n",
       "      <th>267</th>\n",
       "      <td>9997</td>\n",
       "      <td>2021/04/28</td>\n",
       "      <td>1178.0</td>\n",
       "      <td>1178.0</td>\n",
       "      <td>1154.0</td>\n",
       "      <td>1168.0</td>\n",
       "      <td>1168.0</td>\n",
       "      <td>305000.0</td>\n",
       "      <td>1.0</td>\n",
       "      <td>1186.0</td>\n",
       "      <td>2021/04/27</td>\n",
       "      <td>1186.0</td>\n",
       "      <td>2021/04/27</td>\n",
       "      <td>-18.0</td>\n",
       "      <td>-1.518</td>\n",
       "      <td>1166.699</td>\n",
       "    </tr>\n",
       "    <tr>\n",
       "      <th>268</th>\n",
       "      <td>9997</td>\n",
       "      <td>2021/04/30</td>\n",
       "      <td>1165.0</td>\n",
       "      <td>1173.0</td>\n",
       "      <td>1157.0</td>\n",
       "      <td>1159.0</td>\n",
       "      <td>1159.0</td>\n",
       "      <td>251300.0</td>\n",
       "      <td>1.0</td>\n",
       "      <td>1168.0</td>\n",
       "      <td>2021/04/28</td>\n",
       "      <td>1168.0</td>\n",
       "      <td>2021/04/28</td>\n",
       "      <td>-9.0</td>\n",
       "      <td>-0.771</td>\n",
       "      <td>1163.398</td>\n",
       "    </tr>\n",
       "    <tr>\n",
       "      <th>269</th>\n",
       "      <td>9997</td>\n",
       "      <td>2021/05/06</td>\n",
       "      <td>1150.0</td>\n",
       "      <td>1189.0</td>\n",
       "      <td>1148.0</td>\n",
       "      <td>1169.0</td>\n",
       "      <td>1169.0</td>\n",
       "      <td>406400.0</td>\n",
       "      <td>1.0</td>\n",
       "      <td>1159.0</td>\n",
       "      <td>2021/04/30</td>\n",
       "      <td>1159.0</td>\n",
       "      <td>2021/04/30</td>\n",
       "      <td>10.0</td>\n",
       "      <td>0.863</td>\n",
       "      <td>1171.180</td>\n",
       "    </tr>\n",
       "    <tr>\n",
       "      <th>270</th>\n",
       "      <td>9997</td>\n",
       "      <td>2021/05/07</td>\n",
       "      <td>1155.0</td>\n",
       "      <td>1198.0</td>\n",
       "      <td>1153.0</td>\n",
       "      <td>1194.0</td>\n",
       "      <td>1194.0</td>\n",
       "      <td>199900.0</td>\n",
       "      <td>1.0</td>\n",
       "      <td>1169.0</td>\n",
       "      <td>2021/05/06</td>\n",
       "      <td>1169.0</td>\n",
       "      <td>2021/05/06</td>\n",
       "      <td>25.0</td>\n",
       "      <td>2.139</td>\n",
       "      <td>1185.720</td>\n",
       "    </tr>\n",
       "  </tbody>\n",
       "</table>\n",
       "<p>995319 rows × 16 columns</p>\n",
       "</div>"
      ],
      "text/plain": [
       "     Local Code EndOfDayQuote Date  EndOfDayQuote Open  EndOfDayQuote High  \\\n",
       "0          1301         2020/03/27              2718.0              2757.0   \n",
       "1          1301         2020/03/30              2600.0              2624.0   \n",
       "2          1301         2020/03/31              2600.0              2605.0   \n",
       "3          1301         2020/04/01              2517.0              2557.0   \n",
       "4          1301         2020/04/02              2467.0              2539.0   \n",
       "..          ...                ...                 ...                 ...   \n",
       "266        9997         2021/04/27              1206.0              1207.0   \n",
       "267        9997         2021/04/28              1178.0              1178.0   \n",
       "268        9997         2021/04/30              1165.0              1173.0   \n",
       "269        9997         2021/05/06              1150.0              1189.0   \n",
       "270        9997         2021/05/07              1155.0              1198.0   \n",
       "\n",
       "     EndOfDayQuote Low  EndOfDayQuote Close  \\\n",
       "0               2687.0               2757.0   \n",
       "1               2507.0               2619.0   \n",
       "2               2510.0               2545.0   \n",
       "3               2498.0               2517.0   \n",
       "4               2446.0               2512.0   \n",
       "..                 ...                  ...   \n",
       "266             1181.0               1186.0   \n",
       "267             1154.0               1168.0   \n",
       "268             1157.0               1159.0   \n",
       "269             1148.0               1169.0   \n",
       "270             1153.0               1194.0   \n",
       "\n",
       "     EndOfDayQuote ExchangeOfficialClose  EndOfDayQuote Volume  \\\n",
       "0                                 2757.0              139800.0   \n",
       "1                                 2619.0               98400.0   \n",
       "2                                 2545.0               46700.0   \n",
       "3                                 2517.0               56000.0   \n",
       "4                                 2512.0               44400.0   \n",
       "..                                   ...                   ...   \n",
       "266                               1186.0              207500.0   \n",
       "267                               1168.0              305000.0   \n",
       "268                               1159.0              251300.0   \n",
       "269                               1169.0              406400.0   \n",
       "270                               1194.0              199900.0   \n",
       "\n",
       "     EndOfDayQuote CumulativeAdjustmentFactor  EndOfDayQuote PreviousClose  \\\n",
       "0                                         1.0                       2689.0   \n",
       "1                                         1.0                       2757.0   \n",
       "2                                         1.0                       2619.0   \n",
       "3                                         1.0                       2545.0   \n",
       "4                                         1.0                       2517.0   \n",
       "..                                        ...                          ...   \n",
       "266                                       1.0                       1219.0   \n",
       "267                                       1.0                       1186.0   \n",
       "268                                       1.0                       1168.0   \n",
       "269                                       1.0                       1159.0   \n",
       "270                                       1.0                       1169.0   \n",
       "\n",
       "    EndOfDayQuote PreviousCloseDate  \\\n",
       "0                        2020/03/26   \n",
       "1                        2020/03/27   \n",
       "2                        2020/03/30   \n",
       "3                        2020/03/31   \n",
       "4                        2020/04/01   \n",
       "..                              ...   \n",
       "266                      2021/04/26   \n",
       "267                      2021/04/27   \n",
       "268                      2021/04/28   \n",
       "269                      2021/04/30   \n",
       "270                      2021/05/06   \n",
       "\n",
       "     EndOfDayQuote PreviousExchangeOfficialClose  \\\n",
       "0                                         2689.0   \n",
       "1                                         2757.0   \n",
       "2                                         2619.0   \n",
       "3                                         2545.0   \n",
       "4                                         2517.0   \n",
       "..                                           ...   \n",
       "266                                       1219.0   \n",
       "267                                       1186.0   \n",
       "268                                       1168.0   \n",
       "269                                       1159.0   \n",
       "270                                       1169.0   \n",
       "\n",
       "    EndOfDayQuote PreviousExchangeOfficialCloseDate  \\\n",
       "0                                        2020/03/26   \n",
       "1                                        2020/03/27   \n",
       "2                                        2020/03/30   \n",
       "3                                        2020/03/31   \n",
       "4                                        2020/04/01   \n",
       "..                                              ...   \n",
       "266                                      2021/04/26   \n",
       "267                                      2021/04/27   \n",
       "268                                      2021/04/28   \n",
       "269                                      2021/04/30   \n",
       "270                                      2021/05/06   \n",
       "\n",
       "     EndOfDayQuote ChangeFromPreviousClose  \\\n",
       "0                                     68.0   \n",
       "1                                   -138.0   \n",
       "2                                    -74.0   \n",
       "3                                    -28.0   \n",
       "4                                     -5.0   \n",
       "..                                     ...   \n",
       "266                                  -33.0   \n",
       "267                                  -18.0   \n",
       "268                                   -9.0   \n",
       "269                                   10.0   \n",
       "270                                   25.0   \n",
       "\n",
       "     EndOfDayQuote PercentChangeFromPreviousClose  EndOfDayQuote VWAP  \n",
       "0                                           2.529            2719.655  \n",
       "1                                          -5.005            2576.886  \n",
       "2                                          -2.826            2550.565  \n",
       "3                                          -1.100            2522.818  \n",
       "4                                          -0.199            2503.723  \n",
       "..                                            ...                 ...  \n",
       "266                                        -2.707            1189.085  \n",
       "267                                        -1.518            1166.699  \n",
       "268                                        -0.771            1163.398  \n",
       "269                                         0.863            1171.180  \n",
       "270                                         2.139            1185.720  \n",
       "\n",
       "[995319 rows x 16 columns]"
      ]
     },
     "execution_count": 15,
     "metadata": {},
     "output_type": "execute_result"
    }
   ],
   "source": [
    "df_stock_price_api"
   ]
  },
  {
   "cell_type": "code",
   "execution_count": 7,
   "metadata": {},
   "outputs": [
    {
     "name": "stdout",
     "output_type": "stream",
     "text": [
      "<class 'pandas.core.frame.DataFrame'>\n",
      "Int64Index: 995319 entries, 0 to 270\n",
      "Data columns (total 16 columns):\n",
      " #   Column                                           Non-Null Count   Dtype  \n",
      "---  ------                                           --------------   -----  \n",
      " 0   Local Code                                       995319 non-null  int64  \n",
      " 1   EndOfDayQuote Date                               995319 non-null  object \n",
      " 2   EndOfDayQuote Open                               995319 non-null  float64\n",
      " 3   EndOfDayQuote High                               995319 non-null  float64\n",
      " 4   EndOfDayQuote Low                                995319 non-null  float64\n",
      " 5   EndOfDayQuote Close                              995319 non-null  float64\n",
      " 6   EndOfDayQuote ExchangeOfficialClose              995319 non-null  float64\n",
      " 7   EndOfDayQuote Volume                             995319 non-null  float64\n",
      " 8   EndOfDayQuote CumulativeAdjustmentFactor         995319 non-null  float64\n",
      " 9   EndOfDayQuote PreviousClose                      995319 non-null  float64\n",
      " 10  EndOfDayQuote PreviousCloseDate                  995319 non-null  object \n",
      " 11  EndOfDayQuote PreviousExchangeOfficialClose      995319 non-null  float64\n",
      " 12  EndOfDayQuote PreviousExchangeOfficialCloseDate  995319 non-null  object \n",
      " 13  EndOfDayQuote ChangeFromPreviousClose            995319 non-null  float64\n",
      " 14  EndOfDayQuote PercentChangeFromPreviousClose     995319 non-null  float64\n",
      " 15  EndOfDayQuote VWAP                               995319 non-null  float64\n",
      "dtypes: float64(12), int64(1), object(3)\n",
      "memory usage: 129.1+ MB\n"
     ]
    }
   ],
   "source": [
    "df_stock_price_api.info()"
   ]
  },
  {
   "cell_type": "code",
   "execution_count": 9,
   "metadata": {},
   "outputs": [],
   "source": [
    "stock_price_concat = pd.concat([dfs['stock_price'].reset_index(drop=True), df_stock_price_api])\n",
    "stock_price_concat.to_csv('stock_price.csv.gz', compression='gzip', index=False)"
   ]
  },
  {
   "cell_type": "code",
   "execution_count": 20,
   "metadata": {},
   "outputs": [],
   "source": [
    "stock_price_concat.drop_duplicates().to_csv('stock_price.csv.gz', compression='gzip', index=False)  # 5390207"
   ]
  },
  {
   "cell_type": "code",
   "execution_count": 17,
   "metadata": {},
   "outputs": [],
   "source": [
    "aaa = stock_price_concat[stock_price_concat.duplicated()]"
   ]
  },
  {
   "cell_type": "code",
   "execution_count": 19,
   "metadata": {},
   "outputs": [
    {
     "data": {
      "text/plain": [
       "array(['2020/03/27', '2020/03/30', '2020/03/31', '2020/04/01',\n",
       "       '2020/04/02', '2020/04/03', '2020/04/06', '2020/04/07',\n",
       "       '2020/04/08', '2020/04/09', '2020/04/10', '2020/04/13',\n",
       "       '2020/04/14', '2020/04/15', '2020/04/16', '2020/04/17',\n",
       "       '2020/04/20', '2020/04/21', '2020/04/22', '2020/04/23',\n",
       "       '2020/04/24', '2020/04/27', '2020/04/28', '2020/04/30',\n",
       "       '2020/05/01', '2020/05/07', '2020/05/08', '2020/05/11',\n",
       "       '2020/05/12', '2020/05/13', '2020/05/14', '2020/05/15',\n",
       "       '2020/05/18', '2020/05/19', '2020/05/20', '2020/05/21',\n",
       "       '2020/05/22', '2020/05/25', '2020/05/26', '2020/05/27',\n",
       "       '2020/05/28', '2020/05/29', '2020/06/01', '2020/06/02',\n",
       "       '2020/06/03', '2020/06/04', '2020/06/05', '2020/06/08',\n",
       "       '2020/06/09', '2020/06/10', '2020/06/11', '2020/06/12',\n",
       "       '2020/06/15', '2020/06/16', '2020/06/17', '2020/06/18',\n",
       "       '2020/06/19', '2020/06/22', '2020/06/23', '2020/06/24',\n",
       "       '2020/06/25', '2020/06/26', '2020/06/29', '2020/06/30',\n",
       "       '2020/07/01', '2020/07/02', '2020/07/03', '2020/07/06',\n",
       "       '2020/07/07', '2020/07/08', '2020/07/09', '2020/07/10',\n",
       "       '2020/07/13', '2020/07/14', '2020/07/15', '2020/07/16',\n",
       "       '2020/07/17', '2020/07/20', '2020/07/21', '2020/07/22',\n",
       "       '2020/07/27', '2020/07/28', '2020/07/29', '2020/07/30',\n",
       "       '2020/07/31', '2020/08/03', '2020/08/04', '2020/08/05',\n",
       "       '2020/08/06', '2020/08/07', '2020/08/11', '2020/08/12',\n",
       "       '2020/08/13', '2020/08/14', '2020/08/17', '2020/08/18',\n",
       "       '2020/08/19', '2020/08/20', '2020/08/21', '2020/08/24',\n",
       "       '2020/08/25', '2020/08/26', '2020/08/27', '2020/08/28',\n",
       "       '2020/08/31', '2020/09/01', '2020/09/02', '2020/09/03',\n",
       "       '2020/09/04', '2020/09/07', '2020/09/08', '2020/09/09',\n",
       "       '2020/09/10', '2020/09/11', '2020/09/14', '2020/09/15',\n",
       "       '2020/09/16', '2020/09/17', '2020/09/18', '2020/09/23',\n",
       "       '2020/09/24', '2020/09/25', '2020/09/28', '2020/09/29',\n",
       "       '2020/09/30', '2020/10/01', '2020/10/02', '2020/10/05',\n",
       "       '2020/10/06', '2020/10/07', '2020/10/08', '2020/10/09',\n",
       "       '2020/10/12', '2020/10/13', '2020/10/14', '2020/10/15',\n",
       "       '2020/10/16', '2020/10/19', '2020/10/20', '2020/10/21',\n",
       "       '2020/10/22', '2020/10/23', '2020/10/26', '2020/10/27',\n",
       "       '2020/10/28', '2020/10/29', '2020/10/30', '2020/11/02',\n",
       "       '2020/11/04', '2020/11/05', '2020/11/06', '2020/11/09',\n",
       "       '2020/11/10', '2020/11/11', '2020/11/12', '2020/11/13',\n",
       "       '2020/11/16', '2020/11/17', '2020/11/18', '2020/11/19',\n",
       "       '2020/11/20', '2020/11/24', '2020/11/25', '2020/11/26',\n",
       "       '2020/11/27', '2020/11/30', '2020/12/01', '2020/12/02',\n",
       "       '2020/12/03', '2020/12/04', '2020/12/07', '2020/12/08',\n",
       "       '2020/12/09', '2020/12/10', '2020/12/11', '2020/12/14',\n",
       "       '2020/12/15', '2020/12/16', '2020/12/17', '2020/12/18',\n",
       "       '2020/12/21', '2020/12/22', '2020/12/23', '2020/12/24',\n",
       "       '2020/12/25', '2020/12/28', '2020/12/29', '2020/12/30',\n",
       "       '2021/01/04', '2021/01/05', '2021/01/06', '2021/01/07',\n",
       "       '2021/01/08', '2021/01/12', '2021/01/13', '2021/01/14',\n",
       "       '2021/01/15', '2021/01/18', '2021/01/19', '2021/01/20',\n",
       "       '2021/01/21', '2021/01/22', '2021/01/25', '2021/01/26',\n",
       "       '2021/01/27', '2021/01/28', '2021/01/29', '2021/02/01',\n",
       "       '2021/02/02', '2021/02/03', '2021/02/04', '2021/02/05',\n",
       "       '2021/02/08', '2021/02/09', '2021/02/10', '2021/02/12',\n",
       "       '2021/02/15', '2021/02/16', '2021/02/17', '2021/02/18',\n",
       "       '2021/02/19', '2021/02/22', '2021/02/24', '2021/02/25',\n",
       "       '2021/02/26', '2021/03/01', '2021/03/02', '2021/03/03',\n",
       "       '2021/03/04', '2021/03/05', '2021/03/08', '2021/03/09',\n",
       "       '2021/03/10', '2021/03/11', '2021/03/12', '2021/03/15',\n",
       "       '2021/03/16', '2021/03/17', '2021/03/18', '2021/03/19',\n",
       "       '2021/03/22', '2021/03/23', '2021/03/24', '2021/03/25',\n",
       "       '2021/03/26'], dtype=object)"
      ]
     },
     "execution_count": 19,
     "metadata": {},
     "output_type": "execute_result"
    }
   ],
   "source": [
    "aaa['EndOfDayQuote Date'].unique()"
   ]
  },
  {
   "cell_type": "code",
   "execution_count": null,
   "metadata": {},
   "outputs": [],
   "source": []
  },
  {
   "cell_type": "code",
   "execution_count": null,
   "metadata": {},
   "outputs": [],
   "source": []
  },
  {
   "cell_type": "code",
   "execution_count": 32,
   "metadata": {},
   "outputs": [
    {
     "name": "stderr",
     "output_type": "stream",
     "text": [
      "100%|██████████| 3523/3523 [10:05<00:00,  5.82it/s]\n"
     ]
    }
   ],
   "source": [
    "\n",
    "\n",
    "stockfins_from_api = fetch_jquant_data(codes=codes, paramdict=paramdict, target=\"stockfins\", idtk=idtk)\n",
    "\n",
    "\n",
    "\n"
   ]
  },
  {
   "cell_type": "code",
   "execution_count": 83,
   "metadata": {},
   "outputs": [],
   "source": [
    "stockfins_from_api = match_type_df(stockfins_from_api, dfs['stock_fin'])"
   ]
  },
  {
   "cell_type": "code",
   "execution_count": 85,
   "metadata": {},
   "outputs": [],
   "source": [
    "\n",
    "stock_stockfins_concat = pd.concat([dfs['stock_fin'].loc[:'2020-01-01'].reset_index(drop=True), stockfins_from_api])\n",
    "#stock_stockfins_concat.to_csv('stock_fin.csv.gz', compression='gzip', index=False)"
   ]
  },
  {
   "cell_type": "code",
   "execution_count": null,
   "metadata": {},
   "outputs": [],
   "source": []
  },
  {
   "cell_type": "code",
   "execution_count": 89,
   "metadata": {},
   "outputs": [
    {
     "name": "stderr",
     "output_type": "stream",
     "text": [
      "100%|██████████| 3523/3523 [39:06<00:00,  1.50it/s] \n"
     ]
    }
   ],
   "source": [
    "\n",
    "\n",
    "stocklabels_from_api = fetch_jquant_data(codes=codes, paramdict=paramdict, target=\"stocklabels\", idtk=idtk)\n",
    "\n"
   ]
  },
  {
   "cell_type": "code",
   "execution_count": 94,
   "metadata": {},
   "outputs": [],
   "source": [
    "stocklabels_from_api = match_type_df(stocklabels_from_api, dfs['stock_labels'])\n",
    "stocklabels_from_api_concat = pd.concat([dfs['stock_labels'].loc[:'2020-01-01'].reset_index(drop=True), stocklabels_from_api])\n",
    "stocklabels_from_api_concat.to_csv('stock_labels.csv.gz', compression='gzip', index=False)"
   ]
  },
  {
   "cell_type": "code",
   "execution_count": 92,
   "metadata": {},
   "outputs": [
    {
     "name": "stdout",
     "output_type": "stream",
     "text": [
      "<class 'pandas.core.frame.DataFrame'>\n",
      "Int64Index: 4394888 entries, 0 to 299\n",
      "Data columns (total 11 columns):\n",
      " #   Column         Dtype  \n",
      "---  ------         -----  \n",
      " 0   base_date      object \n",
      " 1   Local Code     int64  \n",
      " 2   label_date_5   object \n",
      " 3   label_high_5   float64\n",
      " 4   label_low_5    float64\n",
      " 5   label_date_10  object \n",
      " 6   label_high_10  float64\n",
      " 7   label_low_10   float64\n",
      " 8   label_date_20  object \n",
      " 9   label_high_20  float64\n",
      " 10  label_low_20   float64\n",
      "dtypes: float64(6), int64(1), object(4)\n",
      "memory usage: 402.4+ MB\n"
     ]
    }
   ],
   "source": [
    "stocklabels_from_api_concat.info()"
   ]
  },
  {
   "cell_type": "code",
   "execution_count": null,
   "metadata": {},
   "outputs": [],
   "source": []
  }
 ],
 "metadata": {
  "environment": {
   "name": "pytorch-gpu.1-8.m65",
   "type": "gcloud",
   "uri": "gcr.io/deeplearning-platform-release/pytorch-gpu.1-8:m65"
  },
  "kernelspec": {
   "display_name": "Python 3 (ipykernel)",
   "language": "python",
   "name": "python3"
  },
  "language_info": {
   "codemirror_mode": {
    "name": "ipython",
    "version": 3
   },
   "file_extension": ".py",
   "mimetype": "text/x-python",
   "name": "python",
   "nbconvert_exporter": "python",
   "pygments_lexer": "ipython3",
   "version": "3.9.6"
  }
 },
 "nbformat": 4,
 "nbformat_minor": 2
}
